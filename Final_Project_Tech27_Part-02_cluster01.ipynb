{
  "cells": [
    {
      "cell_type": "markdown",
      "metadata": {
        "id": "view-in-github",
        "colab_type": "text"
      },
      "source": [
        "<a href=\"https://colab.research.google.com/github/markcam1/machine-learning-00/blob/main/Final_Project_Tech27_Part-02_cluster01.ipynb\" target=\"_parent\"><img src=\"https://colab.research.google.com/assets/colab-badge.svg\" alt=\"Open In Colab\"/></a>"
      ]
    },
    {
      "cell_type": "markdown",
      "metadata": {
        "id": "Cq23a7CRPuea"
      },
      "source": [
        "# Clustering and Predictive Modeling of S&P 500 Stock Price Behaviors\n",
        "\n",
        "Cluster: K-Means\n"
      ]
    },
    {
      "cell_type": "markdown",
      "metadata": {
        "id": "OQVB-IV9x8zQ"
      },
      "source": [
        "# Imports"
      ]
    },
    {
      "cell_type": "code",
      "execution_count": null,
      "metadata": {
        "colab": {
          "base_uri": "https://localhost:8080/"
        },
        "id": "FbMRC2czYOrN",
        "outputId": "8a65868a-3976-4881-ab80-fcd3e89e0eca"
      },
      "outputs": [
        {
          "output_type": "stream",
          "name": "stdout",
          "text": [
            "Unsupervised Learning\n",
            "============================================================\n",
            "Analysis Date: 2025-08-28 16:27:27\n"
          ]
        }
      ],
      "source": [
        "#######################\n",
        "#Imports\n",
        "\n",
        "import pandas as pd\n",
        "import numpy as np\n",
        "import matplotlib.pyplot as plt\n",
        "import seaborn as sns\n",
        "from datetime import datetime\n",
        "from sklearn.preprocessing import StandardScaler\n",
        "from sklearn.cluster import KMeans, AgglomerativeClustering\n",
        "from sklearn.decomposition import PCA\n",
        "from sklearn.metrics import silhouette_score, davies_bouldin_score\n",
        "import hdbscan\n",
        "import umap.umap_ as umap\n",
        "import warnings\n",
        "warnings.filterwarnings('ignore')\n",
        "\n",
        "\n",
        "print(f\"Analysis Date: {datetime.now().strftime('%Y-%m-%d %H:%M:%S')}\")\n"
      ]
    },
    {
      "cell_type": "markdown",
      "metadata": {
        "id": "4TjFrtbyWKs4"
      },
      "source": [
        "# Data Load\n",
        "\n",
        "\n"
      ]
    },
    {
      "cell_type": "markdown",
      "metadata": {
        "id": "xWruFGz6WaPA"
      },
      "source": [
        "## File Upload"
      ]
    },
    {
      "cell_type": "code",
      "execution_count": null,
      "metadata": {
        "colab": {
          "base_uri": "https://localhost:8080/"
        },
        "id": "6uGeu89JkjTU",
        "outputId": "c7cb7f3c-6fc4-46eb-de71-1240ee511deb"
      },
      "outputs": [
        {
          "output_type": "stream",
          "name": "stdout",
          "text": [
            "Mounted at /content/drive\n",
            "File loaded successfully!\n",
            "         Date Symbol       Open       High        Low      Close     Volume  \\\n",
            "0  2010-02-17      A  19.333031  19.575014  19.186569  19.504965  4891183.0   \n",
            "1  2010-02-18      A  19.466763  19.740585  19.383981  19.727848  3313959.0   \n",
            "2  2010-02-19      A  19.638699  19.912520  19.498604  19.867945  4186171.0   \n",
            "3  2010-02-22      A  19.925251  19.925251  19.645064  19.836102  4038123.0   \n",
            "4  2010-02-23      A  19.797895  19.842470  19.441291  19.645065  4366373.0   \n",
            "\n",
            "   Year    Return  Annual_Vol  ...  Volume_MA_30  Volume_Ratio_10d  PV_Trend  \\\n",
            "0  2010  0.008893     0.23301  ...  5.170074e+06          0.724769  0.136982   \n",
            "1  2010  0.013412     0.23301  ...  5.141005e+06          0.512090  0.201361   \n",
            "2  2010  0.011673     0.23301  ...  5.172418e+06          0.672281  0.177984   \n",
            "3  2010 -0.004474     0.23301  ...  5.203850e+06          0.711443 -0.068058   \n",
            "4  2010 -0.007719     0.23301  ...  5.224932e+06          0.805576 -0.118027   \n",
            "\n",
            "   Sharpe_252d      Sector                Industry  \\\n",
            "0    -0.152047  Healthcare  Diagnostics & Research   \n",
            "1    -0.118249  Healthcare  Diagnostics & Research   \n",
            "2    -0.090665  Healthcare  Diagnostics & Research   \n",
            "3    -0.098705  Healthcare  Diagnostics & Research   \n",
            "4    -0.112883  Healthcare  Diagnostics & Research   \n",
            "\n",
            "                     Longname  Target_Return_Next_Day  \\\n",
            "0  Agilent Technologies, Inc.                0.011427   \n",
            "1  Agilent Technologies, Inc.                0.007101   \n",
            "2  Agilent Technologies, Inc.               -0.001603   \n",
            "3  Agilent Technologies, Inc.               -0.009631   \n",
            "4  Agilent Technologies, Inc.                0.012318   \n",
            "\n",
            "   Target_Direction_Next_Day  Target_Return_Next_Week  \n",
            "0                          1                 0.019589  \n",
            "1                          1                 0.003551  \n",
            "2                          0                 0.008333  \n",
            "3                          0                 0.030177  \n",
            "4                          1                 0.048946  \n",
            "\n",
            "[5 rows x 47 columns]\n"
          ]
        }
      ],
      "source": [
        "from google.colab import drive\n",
        "drive.mount('/content/drive')\n",
        "\n",
        "import pandas as pd\n",
        "df = pd.read_csv('/content/drive/MyDrive/sp500_stocks_feature-eng.csv')\n",
        "\n",
        "print(\"File loaded successfully!\")\n",
        "print(df.head())\n"
      ]
    },
    {
      "cell_type": "markdown",
      "metadata": {
        "id": "0Wbr__bUWHEA"
      },
      "source": [
        "## Dataset review"
      ]
    },
    {
      "cell_type": "code",
      "execution_count": null,
      "metadata": {
        "colab": {
          "base_uri": "https://localhost:8080/"
        },
        "id": "nD2VwO1ja4q6",
        "outputId": "2d8fc819-1d6c-47d0-b74f-88200c35b89d"
      },
      "outputs": [
        {
          "output_type": "stream",
          "name": "stdout",
          "text": [
            "\n",
            "DATASET OVERVIEW:\n",
            "------------------------------\n",
            "Shape: 1,660,958 rows × 47 columns\n",
            "Memory Usage: 1029.33 MB\n",
            "Date Range: 2010-02-17 to 2025-08-15\n"
          ]
        }
      ],
      "source": [
        "####################################\n",
        "# BASIC DATASET INFO\n",
        "\n",
        "print(f\"\\nDATASET OVERVIEW:\")\n",
        "print(\"-\" * 30)\n",
        "print(f\"Shape: {df.shape[0]:,} rows × {df.shape[1]} columns\")\n",
        "print(f\"Memory Usage: {df.memory_usage(deep=True).sum() / 1024 / 1024:.2f} MB\")\n",
        "print(f\"Date Range: {df['Date'].min()} to {df['Date'].max()}\")"
      ]
    },
    {
      "cell_type": "code",
      "execution_count": null,
      "metadata": {
        "colab": {
          "base_uri": "https://localhost:8080/"
        },
        "id": "8AowWpu8eFro",
        "outputId": "2d63a949-2a31-42d9-8c8a-1ee5b88ff999"
      },
      "outputs": [
        {
          "output_type": "stream",
          "name": "stdout",
          "text": [
            "\n",
            "NUMERICAL COLUMNS STATISTICS:\n",
            "------------------------------\n",
            "Numerical columns: ['Open', 'High', 'Low', 'Close', 'Volume', 'Year', 'Return', 'Annual_Vol', 'Roll_Vol_30d', 'Return_Daily', 'Return_t-1', 'Return_t-2', 'MA_5', 'MA_10', 'MA_20', 'MA_50', 'MA_200', 'Price_to_MA20', 'Price_to_MA50', 'EMA_5', 'EMA_10', 'EMA_12', 'EMA_20', 'EMA_26', 'EMA_50', 'Price_to_EMA10', 'Price_to_EMA20', 'Price_to_EMA50', 'EMA_Cross_5_10', 'EMA_Cross_10_20', 'MACD', 'MACD_Signal', 'MACD_Histogram', 'RSI', 'Volume_MA_10', 'Volume_MA_30', 'Volume_Ratio_10d', 'PV_Trend', 'Sharpe_252d', 'Target_Return_Next_Day', 'Target_Direction_Next_Day', 'Target_Return_Next_Week']\n",
            "\n",
            "               Open          High           Low         Close        Volume  \\\n",
            "count  1.660958e+06  1.660958e+06  1.660958e+06  1.660958e+06  1.660958e+06   \n",
            "mean   1.030498e+02  1.041873e+02  1.018926e+02  1.030675e+02  7.044966e+06   \n",
            "std    2.465424e+02  2.494684e+02  2.436931e+02  2.466088e+02  3.346570e+07   \n",
            "min    1.998924e-01  2.074570e-01  1.982877e-01  2.035600e-01  6.000000e+02   \n",
            "25%    2.897318e+01  2.928512e+01  2.864551e+01  2.897692e+01  1.032600e+06   \n",
            "50%    5.427987e+01  5.483634e+01  5.371662e+01  5.428785e+01  2.233300e+06   \n",
            "75%    1.066542e+02  1.077709e+02  1.054937e+02  1.066699e+02  5.154500e+06   \n",
            "max    9.914170e+03  9.964770e+03  9.794000e+03  9.924400e+03  3.692928e+09   \n",
            "\n",
            "               Year        Return    Annual_Vol  Roll_Vol_30d  Return_Daily  \\\n",
            "count  1.660958e+06  1.660958e+06  1.660958e+06  1.660958e+06  1.660958e+06   \n",
            "mean   2.017371e+03  3.140768e-04  2.421566e-01  2.243202e-01  6.899603e-04   \n",
            "std    4.482334e+00  1.567109e-02  5.794828e-02  1.085617e-01  1.922120e-02   \n",
            "min    2.010000e+03 -5.007108e-01  1.414611e-01  2.283311e-02 -5.386473e-01   \n",
            "25%    2.013000e+03 -7.357975e-03  2.025602e-01  1.534340e-01 -7.862286e-03   \n",
            "50%    2.017000e+03  4.347983e-04  2.304168e-01  1.992971e-01  7.721919e-04   \n",
            "75%    2.021000e+03  8.080800e-03  2.704442e-01  2.644893e-01  9.364836e-03   \n",
            "max    2.025000e+03  7.658227e-01  4.752047e-01  2.471905e+00  7.459323e-01   \n",
            "\n",
            "       ...  MACD_Histogram           RSI  Volume_MA_10  Volume_MA_30  \\\n",
            "count  ...    1.660958e+06  1.660958e+06  1.660958e+06  1.660958e+06   \n",
            "mean   ...    8.386821e-04  5.337279e+01  7.051673e+06  7.070565e+06   \n",
            "std    ...    1.495872e+00  1.678741e+01  3.141292e+07  3.092213e+07   \n",
            "min    ...   -1.760427e+02  0.000000e+00  1.134000e+04  1.299000e+04   \n",
            "25%    ...   -1.557763e-01  4.147827e+01  1.131300e+06  1.170141e+06   \n",
            "50%    ...    3.622565e-03  5.360072e+01  2.346430e+06  2.391075e+06   \n",
            "75%    ...    1.651951e-01  6.548653e+01  5.290650e+06  5.346566e+06   \n",
            "max    ...    9.955442e+01  1.000000e+02  2.269663e+09  1.555249e+09   \n",
            "\n",
            "       Volume_Ratio_10d      PV_Trend   Sharpe_252d  Target_Return_Next_Day  \\\n",
            "count      1.660958e+06  1.660958e+06  1.660958e+06            1.660958e+06   \n",
            "mean       1.008809e+00  4.458253e-03  1.970583e-02            6.883640e-04   \n",
            "std        4.079528e-01  2.391133e-01  6.093001e-02            1.922066e-02   \n",
            "min        2.053908e-04 -8.719851e+00 -5.729889e-01           -5.386473e-01   \n",
            "25%        7.584442e-01 -1.068637e-01 -2.027343e-02           -7.863597e-03   \n",
            "50%        9.335062e-01  6.253856e-03  1.936931e-02            7.702874e-04   \n",
            "75%        1.161516e+00  1.172027e-01  5.930255e-02            9.362609e-03   \n",
            "max        8.922612e+00  1.396001e+01  4.952441e-01            7.459323e-01   \n",
            "\n",
            "       Target_Direction_Next_Day  Target_Return_Next_Week  \n",
            "count               1.660958e+06             1.660958e+06  \n",
            "mean                5.232950e-01             3.401279e-03  \n",
            "std                 4.994572e-01             4.182838e-02  \n",
            "min                 0.000000e+00            -6.811833e-01  \n",
            "25%                 0.000000e+00            -1.677326e-02  \n",
            "50%                 1.000000e+00             3.829977e-03  \n",
            "75%                 1.000000e+00             2.387276e-02  \n",
            "max                 1.000000e+00             1.033626e+00  \n",
            "\n",
            "[8 rows x 42 columns]\n"
          ]
        }
      ],
      "source": [
        "############################\n",
        "# Numerical Columns:\n",
        "\n",
        "print(f\"\\nNUMERICAL COLUMNS STATISTICS:\")\n",
        "print(\"-\" * 30)\n",
        "\n",
        "numerical_cols = df.select_dtypes(include=[np.number]).columns.tolist()\n",
        "print(f\"Numerical columns: {numerical_cols}\")\n",
        "print()\n",
        "print(df[numerical_cols].describe())\n"
      ]
    },
    {
      "cell_type": "markdown",
      "metadata": {
        "id": "_YXvefSmqm8S"
      },
      "source": [
        "# Clustering"
      ]
    },
    {
      "cell_type": "code",
      "execution_count": null,
      "metadata": {
        "id": "FM85Bk4hqzMJ"
      },
      "outputs": [],
      "source": [
        "####################\n",
        "# Import libraries\n",
        "from sklearn.preprocessing import StandardScaler\n",
        "from sklearn.cluster import KMeans, AgglomerativeClustering\n",
        "from sklearn.decomposition import PCA\n",
        "from sklearn.metrics import silhouette_score, davies_bouldin_score\n",
        "import hdbscan\n",
        "import umap.umap_ as umap\n",
        "import warnings\n",
        "warnings.filterwarnings('ignore')\n",
        "\n"
      ]
    },
    {
      "cell_type": "markdown",
      "metadata": {
        "id": "DTMrkyOOcc3g"
      },
      "source": [
        "## Feature columns and Standardization"
      ]
    },
    {
      "cell_type": "code",
      "execution_count": null,
      "metadata": {
        "colab": {
          "base_uri": "https://localhost:8080/"
        },
        "id": "eOUDQkFnmY4J",
        "outputId": "ddfa9e3a-af27-4c10-d477-d90f7c820699"
      },
      "outputs": [
        {
          "output_type": "stream",
          "name": "stdout",
          "text": [
            "Feature matrix shape: (1660958, 20)\n",
            "Features selected: ['Return', 'Annual_Vol', 'Roll_Vol_30d', 'Return_Daily', 'Return_t-1', 'Return_t-2', 'Price_to_MA20', 'Price_to_MA50', 'Price_to_EMA10', 'Price_to_EMA20', 'Price_to_EMA50', 'EMA_Cross_5_10', 'EMA_Cross_10_20', 'MACD', 'MACD_Signal', 'MACD_Histogram', 'RSI', 'Volume_Ratio_10d', 'PV_Trend', 'Sharpe_252d']\n"
          ]
        }
      ],
      "source": [
        "# Select numerical features for clustering (excluding target variables and identifiers)\n",
        "feature_columns = [\n",
        "    'Return', 'Annual_Vol', 'Roll_Vol_30d', 'Return_Daily',\n",
        "    'Return_t-1', 'Return_t-2', 'Price_to_MA20', 'Price_to_MA50',\n",
        "    'Price_to_EMA10', 'Price_to_EMA20', 'Price_to_EMA50',\n",
        "    'EMA_Cross_5_10', 'EMA_Cross_10_20', 'MACD', 'MACD_Signal',\n",
        "    'MACD_Histogram', 'RSI', 'Volume_Ratio_10d', 'PV_Trend', 'Sharpe_252d'\n",
        "]\n",
        "\n",
        "# Create feature matrix\n",
        "X = df[feature_columns].copy()\n",
        "\n",
        "print(\"Feature matrix shape:\", X.shape)\n",
        "print(\"Features selected:\", feature_columns)"
      ]
    },
    {
      "cell_type": "markdown",
      "metadata": {
        "id": "cTUx1pSXcxzG"
      },
      "source": [
        "## PCA"
      ]
    },
    {
      "cell_type": "code",
      "execution_count": null,
      "metadata": {
        "colab": {
          "base_uri": "https://localhost:8080/"
        },
        "id": "eMaWeAkxp46B",
        "outputId": "507c2f3c-56bc-4096-d805-3c63a6b162fb"
      },
      "outputs": [
        {
          "output_type": "stream",
          "name": "stdout",
          "text": [
            "Scaling features ...\n",
            "Features scaled successfully!\n",
            "\n",
            "Scaled data shape: (1660958, 20)\n",
            "Mean of scaled features: [ 4.22871315e-18 -1.39986875e-15 -8.48600274e-16 -2.34429419e-18\n",
            "  1.53469989e-17]\n",
            "Std of scaled features: [1. 1. 1. 1. 1.]\n",
            "\n",
            "PCA explained variance ratio: [0.3381802  0.16069858 0.10569272 0.08044361 0.06363258]\n",
            "Total variance explained: 0.749\n"
          ]
        }
      ],
      "source": [
        "################################\n",
        "# Standardize features\n",
        "print(\"Scaling features ...\")\n",
        "scaler = StandardScaler()\n",
        "X_scaled = scaler.fit_transform(X)\n",
        "print(\"Features scaled successfully!\")\n",
        "print(\"\\nScaled data shape:\", X_scaled.shape)\n",
        "print(\"Mean of scaled features:\", np.mean(X_scaled, axis=0)[:5])\n",
        "print(\"Std of scaled features:\", np.std(X_scaled, axis=0)[:5])\n",
        "\n",
        "# Create PCA for visualization\n",
        "pca = PCA(n_components=5, random_state=42)\n",
        "X_pca = pca.fit_transform(X_scaled)\n",
        "\n",
        "print(f\"\\nPCA explained variance ratio: {pca.explained_variance_ratio_}\")\n",
        "print(f\"Total variance explained: {pca.explained_variance_ratio_.sum():.3f}\")"
      ]
    },
    {
      "cell_type": "code",
      "source": [
        "# Determine optimal number of clusters using elbow method\n",
        "def plot_elbow_method(X, max_k=15):\n",
        "    inertias = []\n",
        "    k_range = range(2, max_k + 1)\n",
        "\n",
        "    for k in k_range:\n",
        "        kmeans = KMeans(n_clusters=k, random_state=42, n_init=10)\n",
        "        kmeans.fit(X)\n",
        "        inertias.append(kmeans.inertia_)\n",
        "\n",
        "    plt.figure(figsize=(10, 6))\n",
        "    plt.plot(k_range, inertias, 'bo-')\n",
        "    plt.xlabel('Number of Clusters (k)')\n",
        "    plt.ylabel('Inertia')\n",
        "    plt.title('Elbow Method for Optimal k')\n",
        "    plt.grid(True)\n",
        "    plt.show()\n",
        "\n",
        "# Plot elbow method\n",
        "plot_elbow_method(X_scaled)"
      ],
      "metadata": {
        "colab": {
          "base_uri": "https://localhost:8080/",
          "height": 564
        },
        "id": "HtjvedN3PGdT",
        "outputId": "7f16659c-8802-4ef4-b559-c82b5cd67553"
      },
      "execution_count": null,
      "outputs": [
        {
          "output_type": "display_data",
          "data": {
            "text/plain": [
              "<Figure size 1000x600 with 1 Axes>"
            ],
            "image/png": "[encoded data removed]"
          },
          "metadata": {}
        }
      ]
    },
    {
      "cell_type": "markdown",
      "metadata": {
        "id": "5p0mJfbAc6G3"
      },
      "source": [
        "## K-Means"
      ]
    },
    {
      "cell_type": "code",
      "execution_count": null,
      "metadata": {
        "colab": {
          "base_uri": "https://localhost:8080/"
        },
        "id": "V58N4RpN6677",
        "outputId": "d43ade08-9c77-41dc-c549-ee146d3f70e6"
      },
      "outputs": [
        {
          "output_type": "stream",
          "name": "stdout",
          "text": [
            "Testing K-Means on full dataset (1,660,958 rows)...\n",
            "Running K-Means with k=3 (1/4)...\n",
            "  Clustering completed. Computing metrics...\n",
            "    K-Means with k=3 completed:\n",
            "    Silhouette Score: 0.161\n",
            "    Davies-Bouldin Score: 1.922\n",
            "    Cluster sizes: [916411 470995 273552]\n",
            "Running K-Means with k=4 (2/4)...\n",
            "  Clustering completed. Computing metrics...\n",
            "    K-Means with k=4 completed:\n",
            "    Silhouette Score: 0.122\n",
            "    Davies-Bouldin Score: 2.027\n",
            "    Cluster sizes: [589619 197782 741599 131958]\n",
            "Running K-Means with k=5 (3/4)...\n",
            "  Clustering completed. Computing metrics...\n",
            "    K-Means with k=5 completed:\n",
            "    Silhouette Score: 0.120\n",
            "    Davies-Bouldin Score: 1.775\n",
            "    Cluster sizes: [578122 135691 226532   2182 718431]\n",
            "Running K-Means with k=6 (4/4)...\n",
            "  Clustering completed. Computing metrics...\n",
            "    K-Means with k=6 completed:\n",
            "    Silhouette Score: 0.127\n",
            "    Davies-Bouldin Score: 1.764\n",
            "    Cluster sizes: [687292   2100  91329 220743 207956 451538]\n"
          ]
        }
      ],
      "source": [
        "# Based on elbow method, select fewer k values to test\n",
        "'''\n",
        "* Silhouette Score for k=5 was 0.120, while k=3 was 0.159\n",
        "* Davies-Bouldin Score for k=5 was 1.769, while k=7 was 1.618.\n",
        "'''\n",
        "\n",
        "k_values = [3, 4, 5, 6]\n",
        "kmeans_results = {}\n",
        "\n",
        "print(f\"Testing K-Means on full dataset ({len(X_scaled):,} rows)...\")\n",
        "\n",
        "for i, k in enumerate(k_values):\n",
        "    print(f\"Running K-Means with k={k} ({i+1}/{len(k_values)})...\")\n",
        "\n",
        "    # Fit K-Means\n",
        "    kmeans = KMeans(n_clusters=k, random_state=42, n_init=3, max_iter=100)\n",
        "    labels = kmeans.fit_predict(X_scaled)\n",
        "\n",
        "    print(f\"  Clustering completed. Computing metrics...\")\n",
        "\n",
        "    # Calculate metrics on a sample for speed\n",
        "    # Use 100K sample for metric calculation\n",
        "    sample_size = min(100000, len(X_scaled))\n",
        "    sample_idx = np.random.choice(len(X_scaled), size=sample_size, replace=False)\n",
        "\n",
        "    sil_score = silhouette_score(X_scaled[sample_idx], labels[sample_idx])\n",
        "    db_score = davies_bouldin_score(X_scaled[sample_idx], labels[sample_idx])\n",
        "\n",
        "    # Store results\n",
        "    kmeans_results[k] = {\n",
        "        'labels': labels,\n",
        "        'silhouette': sil_score,\n",
        "        'davies_bouldin': db_score,\n",
        "        'cluster_sizes': np.bincount(labels)\n",
        "    }\n",
        "\n",
        "    print(f\"    K-Means with k={k} completed:\")\n",
        "    print(f\"    Silhouette Score: {sil_score:.3f}\")\n",
        "    print(f\"    Davies-Bouldin Score: {db_score:.3f}\")\n",
        "    print(f\"    Cluster sizes: {np.bincount(labels)}\")"
      ]
    },
    {
      "cell_type": "markdown",
      "metadata": {
        "id": "xTrvbNRadCUH"
      },
      "source": [
        "### K-means analysis\n",
        "\n",
        "**Analysis of the Final Metrics**\n",
        "\n",
        "**Silhouette Score**: The score for _k=3 (0.161)_ is the clear winner, being significantly higher than all other k values. A higher Silhouette Score indicates that the clusters are more distinct and well-separated from one another.\n",
        "\n",
        "**Davies-Bouldin Score**: The scores for k=5 and k=6 are the lowest, which suggests a high degree of internal compactness. However, the score for k=4 is surprisingly the worst of the group, which shows that the algorithm struggled to find a good partitioning with four clusters.\n",
        "\n",
        "**Cluster Sizes**: k=3 and k=4 result in a good distribution of cluster sizes. k=5 and k=6 both produce a very small cluster.\n",
        "\n",
        "**Conclusion:** Based on review of the Elbow Method, the Silhouette Score, the Davies-Bouldin Score, and the resulting cluster sizes— the decision is k=3."
      ]
    },
    {
      "cell_type": "code",
      "source": [
        "import joblib, numpy as np, os\n",
        "\n",
        "# Save dictionary\n",
        "joblib.dump(kmeans_results, \"/content/kmeans_results.joblib\", compress=3)\n",
        "\n",
        "# --- Save arrays\n",
        "np.save(\"/content/X_scaled.npy\", X_scaled)\n",
        "np.save(\"/content/X_pca.npy\", X_pca)\n",
        "-\n",
        "os.sync()\n",
        "\n",
        "print(\"Files saved in /content\")\n"
      ],
      "metadata": {
        "colab": {
          "base_uri": "https://localhost:8080/"
        },
        "id": "gbqoyJnHJo-D",
        "outputId": "520dc2ba-2057-4fba-b34f-04efbfedbbc8"
      },
      "execution_count": null,
      "outputs": [
        {
          "output_type": "stream",
          "name": "stdout",
          "text": [
            "Files saved in /content\n"
          ]
        }
      ]
    },
    {
      "cell_type": "code",
      "source": [
        "!cp /content/kmeans_results.joblib /content/drive/MyDrive/\n",
        "!cp /content/X_scaled.npy /content/drive/MyDrive/\n",
        "!cp /content/X_pca.npy /content/drive/MyDrive/\n"
      ],
      "metadata": {
        "id": "l1RTRr8ZJ5FT"
      },
      "execution_count": null,
      "outputs": []
    },
    {
      "cell_type": "code",
      "execution_count": null,
      "metadata": {
        "id": "iI4ulphpfg0v"
      },
      "outputs": [],
      "source": [
        "# save results\n",
        "import pickle\n",
        "\n",
        "# Save  results to files\n",
        "with open('kmeans_results.pkl', 'wb') as f:\n",
        "    pickle.dump(kmeans_results, f)\n",
        "\n",
        "# save the scaled data\n",
        "np.save('X_scaled.npy', X_scaled)\n",
        "np.save('X_pca.npy', X_pca)\n",
        "\n",
        "# Save a summary\n",
        "summary_data = {\n",
        "    'dataset_shape': df.shape,\n",
        "    'features_used': feature_columns,\n",
        "    'kmeans_summary': {k: {'silhouette': v['silhouette'],\n",
        "                           'davies_bouldin': v['davies_bouldin'],\n",
        "                           'cluster_sizes': v['cluster_sizes'].tolist()}\n",
        "                      for k, v in kmeans_results.items()}\n",
        "}\n",
        "\n",
        "with open('analysis_summary.pkl', 'wb') as f:\n",
        "    pickle.dump(summary_data, f)\n",
        "\n",
        "print(\"  Results saved! Files created:\")\n",
        "print(\"- kmeans_results.pkl\")\n",
        "print(\"- X_scaled.npy\")\n",
        "print(\"- X_pca.npy\")\n",
        "print(\"- analysis_summary.pkl\")"
      ]
    },
    {
      "cell_type": "markdown",
      "metadata": {
        "id": "5Ih9ebFDvyUP"
      },
      "source": [
        "## Load Pickle X, K-Means results"
      ]
    },
    {
      "cell_type": "markdown",
      "metadata": {
        "id": "_vXyldpOkaIv"
      },
      "source": [
        "## Agglomerative Clustering\n"
      ]
    },
    {
      "cell_type": "markdown",
      "source": [
        "### Load Pickle Files\n",
        "\n",
        "After crash or colab timeout"
      ],
      "metadata": {
        "id": "KUGQRdYSe6cL"
      }
    },
    {
      "cell_type": "code",
      "source": [
        "import joblib, numpy as np\n",
        "\n",
        "# Load dict\n",
        "kmeans_results = joblib.load(\"/content/drive/MyDrive/kmeans_results.joblib\")\n",
        "\n",
        "# Load arrays\n",
        "X_scaled = np.load(\"/content/drive/MyDrive/X_scaled.npy\")\n",
        "X_pca = np.load(\"/content/drive/MyDrive/X_pca.npy\")\n",
        "\n",
        "print(\"Reload complete\")\n"
      ],
      "metadata": {
        "colab": {
          "base_uri": "https://localhost:8080/"
        },
        "id": "XHoYVTkfe5CV",
        "outputId": "202e2827-72ed-45bb-dd58-f8eaefe3b6b8"
      },
      "execution_count": null,
      "outputs": [
        {
          "output_type": "stream",
          "name": "stdout",
          "text": [
            "Reload complete\n"
          ]
        }
      ]
    },
    {
      "cell_type": "code",
      "execution_count": null,
      "metadata": {
        "colab": {
          "base_uri": "https://localhost:8080/"
        },
        "id": "wMbPvFuFYK00",
        "outputId": "f3bf0974-d65b-4d1e-e381-3a0c7ddf26c4"
      },
      "outputs": [
        {
          "output_type": "stream",
          "name": "stdout",
          "text": [
            "Shape of the scaled data (X_scaled): (1660958, 20)\n",
            "Shape of the PCA-transformed data (X_pca): (1660958, 5)\n",
            "--------------------------------------------------\n"
          ]
        }
      ],
      "source": [
        "print(f\"Shape of the scaled data (X_scaled): {X_scaled.shape}\")\n",
        "print(f\"Shape of the PCA-transformed data (X_pca): {X_pca.shape}\")\n",
        "print(\"-\" * 50)"
      ]
    },
    {
      "cell_type": "code",
      "execution_count": null,
      "metadata": {
        "colab": {
          "base_uri": "https://localhost:8080/",
          "height": 965
        },
        "id": "9vGMip16YrV8",
        "outputId": "ab6e3712-9730-44ac-a948-414445f4527f"
      },
      "outputs": [
        {
          "name": "stdout",
          "output_type": "stream",
          "text": [
            "Generating a Dendrogram from a sample of the data ... \n",
            "Dendrogram plot created\n"
          ]
        },
        {
          "data": {
            "image/png": "[encoded data removed]",
            "text/plain": [
              "<Figure size 1500x1000 with 1 Axes>"
            ]
          },
          "metadata": {},
          "output_type": "display_data"
        },
        {
          "name": "stdout",
          "output_type": "stream",
          "text": [
            "--------------------------------------------------\n"
          ]
        }
      ],
      "source": [
        "import scipy.cluster.hierarchy as shc\n",
        "\n",
        "# A dendrogram is a tree-like diagram that records the sequences of merges\n",
        "# or splits.\n",
        "print(\"Generating a Dendrogram from a sample of the data ... \")\n",
        "\n",
        "# Take a random sample of 10,000 data points\n",
        "sample_size = min(10000, X_scaled.shape[0])\n",
        "np.random.seed(42)\n",
        "sample_indices = np.random.choice(X_scaled.shape[0], sample_size, replace=False)\n",
        "X_sample = X_scaled[sample_indices]\n",
        "\n",
        "plt.figure(figsize=(15, 10))\n",
        "plt.title(\"Dendrogram of S&P 500 Stock Data (Sampled)\")\n",
        "plt.xlabel(\"Data Points (Sampled)\")\n",
        "plt.ylabel(\"Euclidean Distance (Ward Linkage)\")\n",
        "\n",
        "# The 'linkage' function calculates the distance between clusters.\n",
        "linkage_matrix = shc.linkage(X_sample, method='ward')\n",
        "\n",
        "# The 'dendrogram' function plots the hierarchy.\n",
        "shc.dendrogram(linkage_matrix,\n",
        "               truncate_mode='lastp',\n",
        "               p=12,\n",
        "               leaf_rotation=90.,\n",
        "               leaf_font_size=12.,\n",
        "               show_contracted=True)\n",
        "\n",
        "print(\"Dendrogram plot created\")\n",
        "plt.show()\n",
        "print(\"-\" * 50)"
      ]
    },
    {
      "cell_type": "code",
      "execution_count": null,
      "metadata": {
        "colab": {
          "base_uri": "https://localhost:8080/"
        },
        "id": "TlW07OEbdxZ2",
        "outputId": "dfaab59e-7d80-429f-9602-a127f2e3d0c0"
      },
      "outputs": [
        {
          "name": "stdout",
          "output_type": "stream",
          "text": [
            "Performing Agglomerative Clustering ... \n",
            "Initializing Agglomerative Clustering with 5 clusters.\n",
            "Fitting the model to the scaled data...\n"
          ]
        }
      ],
      "source": [
        "# # Agglomerative Clustering\n",
        "# # 5 clusters as a starting point.\n",
        "# print(\"Performing Agglomerative Clustering ... \")\n",
        "# # We will use the full dataset for the actual clustering\n",
        "# num_clusters = 5\n",
        "# print(f\"Initializing Agglomerative Clustering with {num_clusters} clusters.\")\n",
        "\n",
        "# # Initialize the model\n",
        "# agg_cluster_model = AgglomerativeClustering(n_clusters=num_clusters, metric='euclidean', linkage='ward')\n",
        "\n",
        "# # Fit the model and get the cluster labels for each data point\n",
        "# print(\"Fitting the model to the scaled data...\")\n",
        "# agg_labels = agg_cluster_model.fit_predict(X_scaled)\n",
        "# print(\"Clustering complete.\")\n",
        "# print(f\"Unique cluster labels found: {np.unique(agg_labels)}\")\n",
        "# print(\"-\" * 50)"
      ]
    },
    {
      "cell_type": "code",
      "execution_count": null,
      "metadata": {
        "colab": {
          "base_uri": "https://localhost:8080/"
        },
        "id": "GPWYClz6gTqm",
        "outputId": "a87ae005-ba4f-480a-b780-6d68717b96c5"
      },
      "outputs": [
        {
          "output_type": "stream",
          "name": "stdout",
          "text": [
            "Performing Agglomerative Clustering on a Sample ... \n",
            "Taking a random sample of 30000 data points for clustering.\n",
            "Initializing Agglomerative Clustering with 5 clusters.\n",
            "Fitting the model to the sampled scaled data...\n",
            "Clustering complete.\n",
            "Unique cluster labels found: [0 1 2 3 4]\n",
            "--------------------------------------------------\n"
          ]
        }
      ],
      "source": [
        "# we will perform the clustering on a larger sample of the data, not the full dataset.\n",
        "print(\"Performing Agglomerative Clustering on a Sample ... \")\n",
        "\n",
        "# Define a sample size for clustering that is manageable for memory\n",
        "sample_size_cluster = min(30000, X_scaled.shape[0])\n",
        "print(f\"Taking a random sample of {sample_size_cluster} data points for clustering.\")\n",
        "np.random.seed(42)\n",
        "sample_indices_cluster = np.random.choice(X_scaled.shape[0], sample_size_cluster, replace=False)\n",
        "\n",
        "# Create samples from both the scaled data (for clustering) and PCA data (for plotting)\n",
        "X_scaled_sample = X_scaled[sample_indices_cluster]\n",
        "X_pca_sample = X_pca[sample_indices_cluster]\n",
        "\n",
        "num_clusters = 5\n",
        "print(f\"Initializing Agglomerative Clustering with {num_clusters} clusters.\")\n",
        "\n",
        "# Initialize the model\n",
        "agg_cluster_model = AgglomerativeClustering(n_clusters=num_clusters, metric='euclidean', linkage='ward')\n",
        "\n",
        "# Fit the model and get the cluster labels for each data point in the sample\n",
        "print(\"Fitting the model to the sampled scaled data...\")\n",
        "agg_labels_sample = agg_cluster_model.fit_predict(X_scaled_sample)\n",
        "print(\"Clustering complete.\")\n",
        "print(f\"Unique cluster labels found: {np.unique(agg_labels_sample)}\")\n",
        "print(\"-\" * 50)\n"
      ]
    },
    {
      "cell_type": "code",
      "source": [
        "# Compute eval metrics\n",
        "sil_score = silhouette_score(X_scaled_sample, agg_labels_sample)\n",
        "db_score = davies_bouldin_score(X_scaled_sample, agg_labels_sample)\n",
        "\n",
        "agg_results = {\n",
        "    'labels': agg_labels_sample,\n",
        "    'silhouette': sil_score,\n",
        "    'davies_bouldin': db_score,\n",
        "    'sample_indices': sample_indices_cluster,\n",
        "    'num_clusters': num_clusters\n",
        "}\n"
      ],
      "metadata": {
        "id": "eKJXaEZJjHwe"
      },
      "execution_count": null,
      "outputs": []
    },
    {
      "cell_type": "code",
      "source": [
        "import joblib, os\n",
        "\n",
        "# Save the Agg results\n",
        "joblib.dump(agg_results, \"/content/agg_results.joblib\", compress=3)\n",
        "os.sync()  # ensures file is fully written\n",
        "\n",
        "# Sampled arrays\n",
        "np.save(\"/content/X_scaled_sample.npy\", X_scaled_sample)\n",
        "np.save(\"/content/X_pca_sample.npy\", X_pca_sample)\n"
      ],
      "metadata": {
        "id": "pD-afd7zjYkh"
      },
      "execution_count": null,
      "outputs": []
    },
    {
      "cell_type": "code",
      "source": [
        "!cp /content/agg_results.joblib /content/drive/MyDrive/\n",
        "!cp /content/X_scaled_sample.npy /content/drive/MyDrive/\n",
        "!cp /content/X_pca_sample.npy /content/drive/MyDrive/\n"
      ],
      "metadata": {
        "id": "Gl_x5pW8jyhK"
      },
      "execution_count": null,
      "outputs": []
    },
    {
      "cell_type": "code",
      "execution_count": null,
      "metadata": {
        "colab": {
          "base_uri": "https://localhost:8080/",
          "height": 693
        },
        "id": "uDq5MQYJitGF",
        "outputId": "a8193991-59d5-4f04-ed4f-6687a0e6698c"
      },
      "outputs": [
        {
          "output_type": "stream",
          "name": "stdout",
          "text": [
            "Visualizing the clusters on a PCA plot ... \n",
            "PCA plot with cluster colors has been generated.\n"
          ]
        },
        {
          "output_type": "display_data",
          "data": {
            "text/plain": [
              "<Figure size 1200x700 with 2 Axes>"
            ],
            "image/png": "[encoded data removed]"
          },
          "metadata": {}
        },
        {
          "output_type": "stream",
          "name": "stdout",
          "text": [
            "--------------------------------------------------\n"
          ]
        }
      ],
      "source": [
        "# visualize the clusters found by the algorithm on the 2D PCA plot.\n",
        "print(\"Visualizing the clusters on a PCA plot ... \")\n",
        "plt.figure(figsize=(12, 7))\n",
        "\n",
        "# Create a scatter plot of the first two principal components from our sample\n",
        "# Color each point according to the cluster label found by Agglomerative Clustering\n",
        "scatter = plt.scatter(X_pca_sample[:, 0], X_pca_sample[:, 1], c=agg_labels_sample, cmap='viridis', alpha=0.6, s=10)\n",
        "\n",
        "plt.title(f'Agglomerative Clustering Results ({num_clusters} Clusters) on S&P 500 Data (Sampled)')\n",
        "plt.xlabel('Principal Component 1')\n",
        "plt.ylabel('Principal Component 2')\n",
        "\n",
        "# Add a colorbar to show which color corresponds to which cluster\n",
        "plt.colorbar(scatter, ticks=range(num_clusters), label='Cluster Label')\n",
        "\n",
        "print(\"PCA plot with cluster colors has been generated.\")\n",
        "plt.show()\n",
        "print(\"-\" * 50)"
      ]
    },
    {
      "cell_type": "markdown",
      "source": [
        "### PCA 2D plot analysis\n",
        "\n",
        "* Not forming separate, circular clusters. They appear continuous, somewhat overlapping fashion.\n",
        "* There are some more spread-out regions, top-right.\n",
        "* There are a few very distant, isolated points (yellow dots in the bottom-left).\n"
      ],
      "metadata": {
        "id": "kGCR6kktl6Ys"
      }
    },
    {
      "cell_type": "markdown",
      "metadata": {
        "id": "RKr51z90p-wv"
      },
      "source": [
        "## HDBSCAN\n"
      ]
    },
    {
      "cell_type": "markdown",
      "metadata": {
        "id": "iu7XjDQqu29o"
      },
      "source": [
        "HDBSCAN (Hierarchical Density-Based Spatial Clustering of Applications with Noise)\n",
        "\n",
        "HDBSCAN is a powerful clustering algorithm based on DBSCAN. Unlike K-Means, it does not require you to specify the number of clusters beforehand. It can find clusters of varying densities and is excellent at identifying and ignoring noise (outliers)."
      ]
    },
    {
      "cell_type": "code",
      "execution_count": null,
      "metadata": {
        "colab": {
          "base_uri": "https://localhost:8080/"
        },
        "id": "CCLlboaQp5iw",
        "outputId": "029fdf6e-a069-4ded-a8ed-1a9546aa52df"
      },
      "outputs": [
        {
          "name": "stdout",
          "output_type": "stream",
          "text": [
            "Testing HDBSCAN on full dataset (1,660,958 rows)...\n",
            "Running HDBSCAN with min_cluster_size=1000 (1/3)...\n"
          ]
        }
      ],
      "source": [
        "# #####################################\n",
        "# # HDBSCAN\n",
        "# hdbscan_results = {}\n",
        "# # Larger min_cluster_sizes\n",
        "# min_cluster_sizes = [1000, 2500, 5000]\n",
        "\n",
        "# print(f\"Testing HDBSCAN on full dataset ({len(X_scaled):,} rows)...\")\n",
        "\n",
        "# for i, min_size in enumerate(min_cluster_sizes):\n",
        "#     print(f\"Running HDBSCAN with min_cluster_size={min_size} ({i+1}/{len(min_cluster_sizes)})...\")\n",
        "\n",
        "#     # Fit HDBSCAN\n",
        "#     clusterer = hdbscan.HDBSCAN(min_cluster_size=min_size,\n",
        "#                                core_dist_n_jobs=1)\n",
        "#     labels = clusterer.fit_predict(X_scaled)\n",
        "\n",
        "#     print(f\"  Clustering completed. Analyzing results...\")\n",
        "\n",
        "#     # Filter out noise\n",
        "#     if len(np.unique(labels)) > 1 and np.sum(labels >= 0) > 0:\n",
        "#         # Calculate metrics on sample of non-noise points for speed\n",
        "#         non_noise_mask = labels >= 0\n",
        "#         non_noise_data = X_scaled[non_noise_mask]\n",
        "#         non_noise_labels = labels[non_noise_mask]\n",
        "\n",
        "#         if len(non_noise_data) > 0 and len(np.unique(non_noise_labels)) > 1:\n",
        "#             # Use sample for metric calculation if dataset is large\n",
        "#             if len(non_noise_data) > 100000:\n",
        "#                 sample_size = 100000\n",
        "#                 sample_idx = np.random.choice(len(non_noise_data), size=sample_size, replace=False)\n",
        "#                 metric_data = non_noise_data[sample_idx]\n",
        "#                 metric_labels = non_noise_labels[sample_idx]\n",
        "#             else:\n",
        "#                 metric_data = non_noise_data\n",
        "#                 metric_labels = non_noise_labels\n",
        "\n",
        "#             sil_score = silhouette_score(metric_data, metric_labels)\n",
        "#             db_score = davies_bouldin_score(metric_data, metric_labels)\n",
        "#         else:\n",
        "#             sil_score, db_score = np.nan, np.nan\n",
        "#     else:\n",
        "#         sil_score, db_score = np.nan, np.nan\n",
        "\n",
        "#     # Count clusters (excluding noise = -1)\n",
        "#     unique_labels = np.unique(labels)\n",
        "#     n_clusters = len(unique_labels[unique_labels >= 0])\n",
        "#     n_noise = np.sum(labels == -1)\n",
        "\n",
        "#     # Store results\n",
        "#     hdbscan_results[min_size] = {\n",
        "#         'labels': labels,\n",
        "#         'silhouette': sil_score,\n",
        "#         'davies_bouldin': db_score,\n",
        "#         'n_clusters': n_clusters,\n",
        "#         'n_noise': n_noise,\n",
        "#         'cluster_sizes': np.bincount(labels[labels >= 0]) if n_clusters > 0 else []\n",
        "#     }\n",
        "\n",
        "#     print(f\"    HDBSCAN (min_cluster_size={min_size}) completed:\")\n",
        "#     print(f\"    Number of clusters: {n_clusters}\")\n",
        "#     print(f\"    Number of noise points: {n_noise:,} ({n_noise/len(labels)*100:.1f}%)\")\n",
        "#     print(f\"    Silhouette Score: {sil_score:.3f}\" if not np.isnan(sil_score) else \"    Silhouette Score: N/A\")\n",
        "#     print(f\"    Davies-Bouldin Score: {db_score:.3f}\" if not np.isnan(db_score) else \"    Davies-Bouldin Score: N/A\")\n",
        "#     if len(hdbscan_results[min_size]['cluster_sizes']) > 0:\n",
        "#         print(f\"    Cluster sizes: {hdbscan_results[min_size]['cluster_sizes']}\")"
      ]
    },
    {
      "cell_type": "code",
      "execution_count": null,
      "metadata": {
        "colab": {
          "base_uri": "https://localhost:8080/"
        },
        "id": "OEwrUgU8xx-A",
        "outputId": "17a5d491-ff23-47dc-cfeb-c22ddc5e8070"
      },
      "outputs": [
        {
          "name": "stdout",
          "output_type": "stream",
          "text": [
            "HDBSCAN also requires significant memory for 1.66M rows.\n",
            "Testing HDBSCAN on sample dataset (49,998 rows)...\n",
            "\n",
            "Running HDBSCAN with min_cluster_size=100 (1/4)...\n",
            "  Clustering completed. Analyzing results...\n",
            "    HDBSCAN (min_cluster_size=100) completed:\n",
            "    Number of clusters: 0\n",
            "    Number of noise points: 49,998 (100.0%)\n",
            "    Silhouette Score: N/A (insufficient clusters)\n",
            "\n",
            "Running HDBSCAN with min_cluster_size=250 (2/4)...\n",
            "  Clustering completed. Analyzing results...\n",
            "    HDBSCAN (min_cluster_size=250) completed:\n",
            "    Number of clusters: 0\n",
            "    Number of noise points: 49,998 (100.0%)\n",
            "    Silhouette Score: N/A (insufficient clusters)\n",
            "\n",
            "Running HDBSCAN with min_cluster_size=500 (3/4)...\n",
            "  Clustering completed. Analyzing results...\n",
            "    HDBSCAN (min_cluster_size=500) completed:\n",
            "    Number of clusters: 0\n",
            "    Number of noise points: 49,998 (100.0%)\n",
            "    Silhouette Score: N/A (insufficient clusters)\n",
            "\n",
            "Running HDBSCAN with min_cluster_size=1000 (4/4)...\n",
            "  Clustering completed. Analyzing results...\n",
            "    HDBSCAN (min_cluster_size=1000) completed:\n",
            "    Number of clusters: 0\n",
            "    Number of noise points: 49,998 (100.0%)\n",
            "    Silhouette Score: N/A (insufficient clusters)\n",
            "\n",
            "Note: HDBSCAN results are based on the same 50K stratified sample\n"
          ]
        }
      ],
      "source": [
        "# print(\"HDBSCAN also requires significant memory for 1.66M rows.\")\n",
        "\n",
        "# # Create samples\n",
        "# if 'X_sample' not in locals():\n",
        "#     print(\"Creating stratified sample based on K-Means results...\")\n",
        "#     sample_size = 50000\n",
        "#     best_kmeans_labels = kmeans_results[3]['labels']\n",
        "\n",
        "#     sample_indices = []\n",
        "#     for cluster_id in np.unique(best_kmeans_labels):\n",
        "#         cluster_mask = best_kmeans_labels == cluster_id\n",
        "#         cluster_indices = np.where(cluster_mask)[0]\n",
        "\n",
        "#         cluster_proportion = cluster_mask.sum() / len(best_kmeans_labels)\n",
        "#         cluster_sample_size = int(sample_size * cluster_proportion)\n",
        "\n",
        "#         if len(cluster_indices) >= cluster_sample_size:\n",
        "#             cluster_sample = np.random.choice(cluster_indices, size=cluster_sample_size, replace=False)\n",
        "#         else:\n",
        "#             cluster_sample = cluster_indices\n",
        "\n",
        "#         sample_indices.extend(cluster_sample)\n",
        "\n",
        "#     sample_indices = np.array(sample_indices)\n",
        "#     X_sample = X_scaled[sample_indices]\n",
        "\n",
        "#     print(f\"Created stratified sample: {len(X_sample):,} rows\")\n",
        "\n",
        "# # HDBSCAN on the sample\n",
        "# hdbscan_results = {}\n",
        "# # smaller min_cluster_sizes appropriate for 50K sample\n",
        "# min_cluster_sizes = [100, 250, 500, 1000]\n",
        "\n",
        "# print(f\"Testing HDBSCAN on sample dataset ({len(X_sample):,} rows)...\\n\")\n",
        "\n",
        "# for i, min_size in enumerate(min_cluster_sizes):\n",
        "#     print(f\"Running HDBSCAN with min_cluster_size={min_size} ({i+1}/{len(min_cluster_sizes)})...\")\n",
        "\n",
        "#     # Fit HDBSCAN\n",
        "#     clusterer = hdbscan.HDBSCAN(min_cluster_size=min_size)\n",
        "#     labels = clusterer.fit_predict(X_sample)\n",
        "\n",
        "#     print(f\"  Clustering completed. Analyzing results...\")\n",
        "\n",
        "#     # Calculate metrics\n",
        "#     if len(np.unique(labels)) > 1 and np.sum(labels >= 0) > 0:\n",
        "#         non_noise_mask = labels >= 0\n",
        "#         non_noise_data = X_sample[non_noise_mask]\n",
        "#         non_noise_labels = labels[non_noise_mask]\n",
        "\n",
        "#         if len(non_noise_data) > 0 and len(np.unique(non_noise_labels)) > 1:\n",
        "#             sil_score = silhouette_score(non_noise_data, non_noise_labels)\n",
        "#             db_score = davies_bouldin_score(non_noise_data, non_noise_labels)\n",
        "#         else:\n",
        "#             sil_score, db_score = np.nan, np.nan\n",
        "#     else:\n",
        "#         sil_score, db_score = np.nan, np.nan\n",
        "\n",
        "#     # Count clusters (excluding noise = -1)\n",
        "#     unique_labels = np.unique(labels)\n",
        "#     n_clusters = len(unique_labels[unique_labels >= 0])\n",
        "#     n_noise = np.sum(labels == -1)\n",
        "\n",
        "#     # Store results\n",
        "#     hdbscan_results[min_size] = {\n",
        "#         'labels': labels,\n",
        "#         'silhouette': sil_score,\n",
        "#         'davies_bouldin': db_score,\n",
        "#         'n_clusters': n_clusters,\n",
        "#         'n_noise': n_noise,\n",
        "#         'cluster_sizes': np.bincount(labels[labels >= 0]) if n_clusters > 0 else [],\n",
        "#         'sample_size': len(X_sample),\n",
        "#         'note': 'Results based on stratified sample'\n",
        "#     }\n",
        "\n",
        "#     print(f\"    HDBSCAN (min_cluster_size={min_size}) completed:\")\n",
        "#     print(f\"    Number of clusters: {n_clusters}\")\n",
        "#     print(f\"    Number of noise points: {n_noise:,} ({n_noise/len(labels)*100:.1f}%)\")\n",
        "#     if not np.isnan(sil_score):\n",
        "#         print(f\"    Silhouette Score: {sil_score:.3f}\")\n",
        "#         print(f\"    Davies-Bouldin Score: {db_score:.3f}\")\n",
        "#     else:\n",
        "#         print(f\"    Silhouette Score: N/A (insufficient clusters)\")\n",
        "#     if len(hdbscan_results[min_size]['cluster_sizes']) > 0:\n",
        "#         print(f\"    Cluster sizes: {hdbscan_results[min_size]['cluster_sizes']}\")\n",
        "#     print()\n",
        "\n",
        "# print(\"Note: HDBSCAN results are based on the same 50K stratified sample\")"
      ]
    },
    {
      "cell_type": "code",
      "execution_count": null,
      "metadata": {
        "colab": {
          "base_uri": "https://localhost:8080/"
        },
        "id": "B7R7tjpnKeGa",
        "outputId": "04664952-78c9-49f5-d48b-b28cc80f2a39"
      },
      "outputs": [
        {
          "output_type": "stream",
          "name": "stdout",
          "text": [
            "HDBSCAN classified everything as noise. Adjusting parameters...\n",
            "\n",
            "Creating stratified sample based on K-Means results...\n",
            "Created stratified sample: 49,998 rows\n",
            "Testing HDBSCAN: min_cluster_size=25, min_samples=5\n",
            "  Result: 0 clusters, 49998 noise points (100.0%)\n",
            "\n",
            "Testing HDBSCAN: min_cluster_size=25, min_samples=10\n",
            "  Result: 0 clusters, 49998 noise points (100.0%)\n",
            "\n",
            "Testing HDBSCAN: min_cluster_size=25, min_samples=15\n",
            "  Result: 0 clusters, 49998 noise points (100.0%)\n",
            "\n",
            "Testing HDBSCAN: min_cluster_size=50, min_samples=5\n",
            "  Result: 0 clusters, 49998 noise points (100.0%)\n",
            "\n",
            "Testing HDBSCAN: min_cluster_size=50, min_samples=10\n",
            "  Result: 0 clusters, 49998 noise points (100.0%)\n",
            "\n",
            "Testing HDBSCAN: min_cluster_size=50, min_samples=15\n",
            "  Result: 0 clusters, 49998 noise points (100.0%)\n",
            "\n",
            "Testing HDBSCAN: min_cluster_size=100, min_samples=5\n",
            "  Result: 0 clusters, 49998 noise points (100.0%)\n",
            "\n",
            "Testing HDBSCAN: min_cluster_size=100, min_samples=10\n",
            "  Result: 0 clusters, 49998 noise points (100.0%)\n",
            "\n",
            "Testing HDBSCAN: min_cluster_size=100, min_samples=15\n",
            "  Result: 0 clusters, 49998 noise points (100.0%)\n",
            "\n",
            "   HDBSCAN unable to find meaningful clusters in this sample\n"
          ]
        }
      ],
      "source": [
        "print(\"HDBSCAN classified everything as noise. Adjusting parameters...\\n\")\n",
        "\n",
        "# Create samples\n",
        "if 'X_sample' not in locals():\n",
        "    print(\"Creating stratified sample based on K-Means results...\")\n",
        "    sample_size = 50000\n",
        "    best_kmeans_labels = kmeans_results[3]['labels']\n",
        "\n",
        "    sample_indices = []\n",
        "    for cluster_id in np.unique(best_kmeans_labels):\n",
        "        cluster_mask = best_kmeans_labels == cluster_id\n",
        "        cluster_indices = np.where(cluster_mask)[0]\n",
        "\n",
        "        cluster_proportion = cluster_mask.sum() / len(best_kmeans_labels)\n",
        "        cluster_sample_size = int(sample_size * cluster_proportion)\n",
        "\n",
        "        if len(cluster_indices) >= cluster_sample_size:\n",
        "            cluster_sample = np.random.choice(cluster_indices, size=cluster_sample_size, replace=False)\n",
        "        else:\n",
        "            cluster_sample = cluster_indices\n",
        "\n",
        "        sample_indices.extend(cluster_sample)\n",
        "\n",
        "    sample_indices = np.array(sample_indices)\n",
        "    X_sample = X_scaled[sample_indices]\n",
        "\n",
        "    print(f\"Created stratified sample: {len(X_sample):,} rows\")\n",
        "\n",
        "# Try more permissive parameters\n",
        "hdbscan_results = {}\n",
        "min_cluster_sizes = [25, 50, 100]\n",
        "min_samples_list = [5, 10, 15]\n",
        "\n",
        "for min_size in min_cluster_sizes:\n",
        "    for min_samples in min_samples_list:\n",
        "        print(f\"Testing HDBSCAN: min_cluster_size={min_size}, min_samples={min_samples}\")\n",
        "\n",
        "        clusterer = hdbscan.HDBSCAN(\n",
        "            min_cluster_size=min_size,\n",
        "            min_samples=min_samples,\n",
        "            cluster_selection_epsilon=0.1\n",
        "        )\n",
        "        labels = clusterer.fit_predict(X_sample)\n",
        "\n",
        "        unique_labels = np.unique(labels)\n",
        "        n_clusters = len(unique_labels[unique_labels >= 0])\n",
        "        n_noise = np.sum(labels == -1)\n",
        "\n",
        "        print(f\"  Result: {n_clusters} clusters, {n_noise} noise points ({n_noise/len(labels)*100:.1f}%)\")\n",
        "\n",
        "        # If we found clusters, calculate metrics and break\n",
        "        if n_clusters > 0:\n",
        "            non_noise_mask = labels >= 0\n",
        "            non_noise_data = X_sample[non_noise_mask]\n",
        "            non_noise_labels = labels[non_noise_mask]\n",
        "\n",
        "            if len(np.unique(non_noise_labels)) > 1:\n",
        "                sil_score = silhouette_score(non_noise_data, non_noise_labels)\n",
        "                db_score = davies_bouldin_score(non_noise_data, non_noise_labels)\n",
        "\n",
        "                key = f\"{min_size}_{min_samples}\"\n",
        "                hdbscan_results[key] = {\n",
        "                    'labels': labels,\n",
        "                    'silhouette': sil_score,\n",
        "                    'davies_bouldin': db_score,\n",
        "                    'n_clusters': n_clusters,\n",
        "                    'n_noise': n_noise,\n",
        "                    'cluster_sizes': np.bincount(labels[labels >= 0]),\n",
        "                    'min_cluster_size': min_size,\n",
        "                    'min_samples': min_samples\n",
        "                }\n",
        "\n",
        "                print(f\"  Success! Silhouette: {sil_score:.3f}, DB: {db_score:.3f}\")\n",
        "                print(f\"  Cluster sizes: {np.bincount(labels[labels >= 0])}\")\n",
        "        print()\n",
        "\n",
        "        # Stop once we find a working configuration\n",
        "        if n_clusters > 0:\n",
        "            break\n",
        "\n",
        "    if len(hdbscan_results) > 0:\n",
        "        break\n",
        "\n",
        "if len(hdbscan_results) == 0:\n",
        "    print(\"   HDBSCAN unable to find meaningful clusters in this sample\")\n",
        "\n",
        "    # Create dummy results for comparison table\n",
        "    hdbscan_results['no_clusters'] = {\n",
        "        'note': 'HDBSCAN found no clusters'\n",
        "    }"
      ]
    },
    {
      "cell_type": "code",
      "source": [],
      "metadata": {
        "id": "RfKk-KHGDnk7"
      },
      "execution_count": null,
      "outputs": []
    }
  ],
  "metadata": {
    "colab": {
      "provenance": [],
      "toc_visible": true,
      "mount_file_id": "1O_DmXbGe5gpM2JnEkvmUopfdjh_qZ7Wb",
      "authorship_tag": "ABX9TyNL9KmfBaw/mlI3062ixLhR",
      "include_colab_link": true
    },
    "kernelspec": {
      "display_name": "Python 3",
      "name": "python3"
    },
    "language_info": {
      "name": "python"
    }
  },
  "nbformat": 4,
  "nbformat_minor": 0
}